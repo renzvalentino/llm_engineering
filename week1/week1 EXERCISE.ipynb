{
 "cells": [
  {
   "cell_type": "markdown",
   "id": "fe12c203-e6a6-452c-a655-afb8a03a4ff5",
   "metadata": {},
   "source": [
    "# End of week 1 exercise\n",
    "\n",
    "To demonstrate your familiarity with OpenAI API, and also Ollama, build a tool that takes a technical question,  \n",
    "and responds with an explanation. This is a tool that you will be able to use yourself during the course!"
   ]
  },
  {
   "cell_type": "code",
   "execution_count": 2,
   "id": "c1070317-3ed9-4659-abe3-828943230e03",
   "metadata": {},
   "outputs": [],
   "source": [
    "# imports\n",
    "\n",
    "import os\n",
    "import requests\n",
    "import json\n",
    "from typing import List\n",
    "from dotenv import load_dotenv\n",
    "from IPython.display import Markdown, display, update_display\n",
    "from openai import OpenAI"
   ]
  },
  {
   "cell_type": "code",
   "execution_count": 3,
   "id": "4a456906-915a-4bfd-bb9d-57e505c5093f",
   "metadata": {},
   "outputs": [
    {
     "name": "stdout",
     "output_type": "stream",
     "text": [
      "API key looks good so far\n"
     ]
    }
   ],
   "source": [
    "# constants\n",
    "\n",
    "load_dotenv(override=True)\n",
    "api_key = os.getenv('OPENAI_API_KEY')\n",
    "\n",
    "if api_key and api_key.startswith('sk-proj-') and len(api_key)>10:\n",
    "    print(\"API key looks good so far\")\n",
    "else:\n",
    "    print(\"There might be a problem with your API key? Please visit the troubleshooting notebook!\")\n",
    "    \n",
    "MODEL = 'gpt-4o-mini'\n",
    "MODEL_LLAMA = 'llama3.2'\n",
    "openai = OpenAI()"
   ]
  },
  {
   "cell_type": "code",
   "execution_count": 4,
   "id": "a8d7923c-5f28-4c30-8556-342d7c8497c1",
   "metadata": {},
   "outputs": [],
   "source": [
    "# set up environment\n",
    "\n",
    "question_system_prompt = \"You are provided with a technical question about AI and LLMs \\\n",
    "Provide the most accurate answer and explain in detail to a student of LLM engineering the answer \\n\"\n"
   ]
  },
  {
   "cell_type": "code",
   "execution_count": 15,
   "id": "3f0d0137-52b0-47a8-81a8-11a90a010798",
   "metadata": {},
   "outputs": [],
   "source": [
    "# here is the question; type over this to ask something new\n",
    "\n",
    "question = \"\"\"\n",
    "how do i resolve this issue:\n",
    "remote: Permission to renzvalentino/llm_engineering.git denied to samesquejo.\n",
    "fatal: unable to access 'https://github.com/renzvalentino/llm_engineering.git/': The requested URL returned error: 403\n",
    "\"\"\""
   ]
  },
  {
   "cell_type": "code",
   "execution_count": 16,
   "id": "60ce7000-a4a5-4cce-a261-e75ef45063b4",
   "metadata": {},
   "outputs": [
    {
     "data": {
      "text/markdown": [
       "The issue you're encountering is related to GitHub permissions. Let's break down the error message and provide you with a step-by-step approach to resolving it.\n",
       "\n",
       "### Error Breakdown:\n",
       "- **\"remote: Permission to renzvalentino/llm_engineering.git denied to samesquejo.\"**\n",
       "  - This indicates that the user `samesquejo` does not have the necessary permissions to push to the repository `renzvalentino/llm_engineering.git`.\n",
       "\n",
       "- **\"fatal: unable to access 'https://github.com/renzvalentino/llm_engineering.git/': The requested URL returned error: 403\"**\n",
       "  - The `403` HTTP status code means \"Forbidden\", which confirms that your authentication to access the repository is failing due to permission issues.\n",
       "\n",
       "### Steps to Resolve the Issue:\n",
       "\n",
       "1. **Check Your Role:**\n",
       "   - First, confirm whether you are a contributor to the repository. Only users with specific roles (like Admin, Write, or Maintainer) can push changes. If you are only a Read-Only collaborator or not listed as a collaborator at all, you will need to request access from the repo owner.\n",
       "\n",
       "2. **Check Authentication Method:**\n",
       "   - If you are using HTTPS for pushing, ensure you have the correct credentials set up. You may need to configure your personal access token if your account security settings have changed. GitHub no longer supports password-based authentication for HTTPS. You can generate a personal access token by:\n",
       "     - Going to GitHub and logging in.\n",
       "     - Navigate to **Settings -> Developer settings -> Personal access tokens**.\n",
       "     - Click on “Generate new token” and grant it appropriate scopes (like repo access).\n",
       "     - Use this token in place of your password when prompted by Git.\n",
       "\n",
       "3. **Caching / Credential Helper:**\n",
       "   - If you previously authenticated with incorrect credentials, Git may be caching those. To clear cached credentials, you can use:\n",
       "     bash\n",
       "     git credential-cache exit\n",
       "     \n",
       "   - Alternatively, you can find the stored credentials on your OS.\n",
       "     - On Windows: Credential Manager.\n",
       "     - On macOS: Keychain Access.\n",
       "     - On Linux: Check `~/.git-credentials`.\n",
       "\n",
       "4. **Verify the Remote URL:**\n",
       "   - Double-check the remote repository URL you are trying to push to. You can verify by running:\n",
       "     bash\n",
       "     git remote -v\n",
       "     \n",
       "   - Make sure that the URL matches exactly the repository you intend to push to. If it doesn't, you can update it using:\n",
       "     bash\n",
       "     git remote set-url origin https://github.com/renzvalentino/llm_engineering.git\n",
       "     \n",
       "\n",
       "5. **Check Repository Settings:**\n",
       "   - If you're the owner or a collaborator, ensure that the repository settings allow for your user access and check branch protection rules that might restrict access to certain branches.\n",
       "\n",
       "6. **Log Out and Log Back In:**\n",
       "   - Sometimes refreshing your authentication state can help. Log out from GitHub and reauthorize.\n",
       "\n",
       "### Conclusion:\n",
       "If you've verified all these steps and still face issues, reach out to the repository owner to ensure that you have correct permissions or to see if there are any additional guidelines they wish you to follow. Once the permission checks are cleared and your credentials are properly established, you should be able to push to the repository without encountering the error."
      ],
      "text/plain": [
       "<IPython.core.display.Markdown object>"
      ]
     },
     "metadata": {},
     "output_type": "display_data"
    }
   ],
   "source": [
    "# Get gpt-4o-mini to answer, with streaming\n",
    "\n",
    "def stream_question_answer(question):\n",
    "    stream = openai.chat.completions.create(\n",
    "        model=MODEL,\n",
    "        messages=[\n",
    "            {\"role\": \"system\", \"content\": question_system_prompt},\n",
    "            {\"role\": \"user\", \"content\": question}\n",
    "          ],\n",
    "        stream=True\n",
    "    )\n",
    "    \n",
    "    response = \"\"\n",
    "    display_handle = display(Markdown(\"\"), display_id=True)\n",
    "    for chunk in stream:\n",
    "        response += chunk.choices[0].delta.content or ''\n",
    "        response = response.replace(\"```\",\"\").replace(\"markdown\", \"\")\n",
    "        update_display(Markdown(response), display_id=display_handle.display_id)\n",
    "\n",
    "stream_question_answer(question)"
   ]
  },
  {
   "cell_type": "code",
   "execution_count": 11,
   "id": "94af4f33-2baa-4d7c-9a45-ba9668ac0fc0",
   "metadata": {},
   "outputs": [
    {
     "name": "stdout",
     "output_type": "stream",
     "text": [
      "\u001b[?25lpulling manifest ⠋ \u001b[?25h\u001b[?25l\u001b[2K\u001b[1Gpulling manifest ⠙ \u001b[?25h\u001b[?25l\u001b[2K\u001b[1Gpulling manifest ⠹ \u001b[?25h\u001b[?25l\u001b[2K\u001b[1Gpulling manifest ⠸ \u001b[?25h\u001b[?25l\u001b[2K\u001b[1Gpulling manifest ⠼ \u001b[?25h\u001b[?25l\u001b[2K\u001b[1Gpulling manifest ⠴ \u001b[?25h\u001b[?25l\u001b[2K\u001b[1Gpulling manifest ⠦ \u001b[?25h\u001b[?25l\u001b[2K\u001b[1Gpulling manifest ⠧ \u001b[?25h\u001b[?25l\u001b[2K\u001b[1Gpulling manifest ⠇ \u001b[?25h\u001b[?25l\u001b[2K\u001b[1Gpulling manifest ⠏ \u001b[?25h\u001b[?25l\u001b[2K\u001b[1Gpulling manifest \n",
      "pulling dde5aa3fc5ff... 100% ▕████████████████▏ 2.0 GB                         \n",
      "pulling 966de95ca8a6... 100% ▕████████████████▏ 1.4 KB                         \n",
      "pulling fcc5a6bec9da... 100% ▕████████████████▏ 7.7 KB                         \n",
      "pulling a70ff7e570d9... 100% ▕████████████████▏ 6.0 KB                         \n",
      "pulling 56bb8bd477a5... 100% ▕████████████████▏   96 B                         \n",
      "pulling 34bb5ab01051... 100% ▕████████████████▏  561 B                         \n",
      "verifying sha256 digest \n",
      "writing manifest \n",
      "success \u001b[?25h\n"
     ]
    }
   ],
   "source": [
    "!ollama pull llama3.2"
   ]
  },
  {
   "cell_type": "code",
   "execution_count": 17,
   "id": "8f7c8ea8-4082-4ad0-8751-3301adcf6538",
   "metadata": {},
   "outputs": [
    {
     "data": {
      "text/markdown": [
       "**Resolving the 'Permission Denied' Issue on GitHub**\n",
       "\n",
       "As a student of LLM engineering, you're likely working with open-source projects and collaborating with others. In this case, it seems like you've encountered an issue when trying to clone the `llm_engineering` repository from GitHub.\n",
       "\n",
       "The error message indicates that GitHub has denied your request due to permission issues. This is usually caused by one of two reasons:\n",
       "\n",
       "1. **Repository permissions**: The owner of the repository (`renzvalentino`) might have restricted access controls, denying you permission to clone the repository.\n",
       "2. **API rate limiting or blocking**: Your account's API credentials may have been flagged for excessive requests, causing GitHub to block your attempts to access certain repositories.\n",
       "\n",
       "To resolve this issue, follow these steps:\n",
       "\n",
       "**Option 1: Find an alternate repository owner with permission**\n",
       "\n",
       "Try cloning a different repository from `renzvalentino` that has been forked by someone with permissions. This way, you can still work with the desired project structure and content while ensuring you have the necessary access.\n",
       "\n",
       "1. Search for similar repositories on GitHub using keywords like `llm-engineering`, `LLM development`, or other relevant terms.\n",
       "2. Filter the results to show only open-source projects related to LLM engineering.\n",
       "3. Look for a repository with an owner who has been forked from `renzvalentino` or has contributed to the original project.\n",
       "4. Clone the new repository, and you should have access to its content.\n",
       "\n",
       "**Option 2: Obtain permission from the repository owner**\n",
       "\n",
       "If you're interested in working with the official `llm_engineering` repository, try resolving the issue by obtaining permission from the owner (`renzvalentino`). You can do this by sending an email or direct message to them explaining your situation and asking for permission.\n",
       "\n",
       "1. Find the repository's homepage on GitHub (<https://github.com/renzvalentino/llm_engineering.git/>).\n",
       "2. Click on **Issues** or **Pull requests**, depending on whether you want to request a review or contribute to the main codebase.\n",
       "3. In the issue description, explain your background and why you're interested in working with the repository. Provide your educational institution, course materials, or relevant projects related to LLM engineering that demonstrate your expertise.\n",
       "4. Request permission from `renzvalentino` by stating that you're willing to provide context, follow their guidelines, and respect their project's ownership.\n",
       "\n",
       "Example email template:\n",
       "\n",
       "Subject: ReQuesting Permission for llm_engineering Repository\n",
       "\n",
       "Dear RenzValentino,\n",
       "\n",
       "I'm [Your Name], a [Year] student at [University Name]. I've been studying [Course Name] as part of my LLM engineering studies. While working on [Relevant Project Materials], I stumbled upon your repository (llm_engineering) and thought it would be an excellent learning resource.\n",
       "\n",
       "However, when trying to clone the repository, I encountered a 403 Forbidden error due to permission issues. After researching online, I realized that access was restricted. As a result, I'd like to request permission to work with the llm_engineering project under your ownership.\n",
       "\n",
       "If granted permission, I'll ensure to provide context for my contributions and respect the original project's ownership. Here are some highlights from my background:\n",
       "\n",
       "* **Projects:**\n",
       "\t+ [Project 1]: Developed an LLM-based chatbot using Python (2022)\n",
       "\t+ [Project 2]: Improvised a transformer model using TensorFlow (2023)\n",
       "\n",
       "**What would I like to achieve with llm_engineering?**\n",
       "\n",
       "* Gain hands-on experience with the latest tools and techniques in LLM engineering.\n",
       "* Develop collaboration opportunities with professionals within the field.\n",
       "\n",
       "Please let me know if this is something you're open to discussing further, and we can go from there. If approved, please provide detailed guidelines for contributing to the project, including any necessary access or setup information.\n",
       "\n",
       "Thank you for your time and consideration!\n",
       "\n",
       "Best regards,\n",
       "\n",
       "[Your Name]\n",
       "\n",
       "**Option 3: Request an API key or GitHub Developer account**\n",
       "\n",
       "As a student developer, requesting permission might take some time. Alternatively, consider establishing yourself as a trusted contributor by registering for a **GitHub Developer account**\n",
       "\n",
       "1. Go to the [GitHub Developer account page](https://developer.github.com).\n",
       "2. Sign up for an organization (free) account.\n",
       "3. Claim your GitHub profile and fill out all fields requested in the application process.\n",
       "4. Fill out the \"GitHub Profile\" section by verifying your identity through an email address, social media credentials or other trusted authentication sources.\n",
       "\n",
       "Create a new personal token to use it to access API endpoints on the main repository page or you can also add it in the settings or profiles in GitHub repositories.\n",
       "\n",
       "**After resolving permission issues:**\n",
       "\n",
       "* Check that your GitHub account has adequate access permissions. This may require verifying that your email address and user ID match your account information.\n",
       "* Look up instructions for using your **GitHub tokens**, like those created above, depending on which version of the new API you prefer (1 or 2).\n",
       "\n",
       "When you've addressed these steps, try cloning the repository again, ensuring you follow any specific guidelines provided by `renzvalentino` or other collaborators. If you're still encountering issues, it may be a sign that access restrictions are in place due to malicious activity.\n",
       "\n",
       "To avoid future permissions issues when contributing to projects by establishing yourself as a trusted and engaged developer in open-source initiatives:"
      ],
      "text/plain": [
       "<IPython.core.display.Markdown object>"
      ]
     },
     "metadata": {},
     "output_type": "display_data"
    }
   ],
   "source": [
    "# Get Llama 3.2 to answer\n",
    "\n",
    "def stream_question_answer_local(question):\n",
    "    ollama_via_openai = OpenAI(base_url='http://localhost:11434/v1', api_key='ollama')\n",
    "    stream = ollama_via_openai.chat.completions.create(\n",
    "        model=MODEL_LLAMA,\n",
    "        messages=[\n",
    "            {\"role\": \"system\", \"content\": question_system_prompt},\n",
    "            {\"role\": \"user\", \"content\": question}\n",
    "          ],\n",
    "        stream=True\n",
    "    )\n",
    "    \n",
    "    response = \"\"\n",
    "    display_handle = display(Markdown(\"\"), display_id=True)\n",
    "    for chunk in stream:\n",
    "        response += chunk.choices[0].delta.content or ''\n",
    "        response = response.replace(\"```\",\"\").replace(\"markdown\", \"\")\n",
    "        update_display(Markdown(response), display_id=display_handle.display_id)\n",
    "\n",
    "stream_question_answer_local(question)"
   ]
  }
 ],
 "metadata": {
  "kernelspec": {
   "display_name": "Python 3 (ipykernel)",
   "language": "python",
   "name": "python3"
  },
  "language_info": {
   "codemirror_mode": {
    "name": "ipython",
    "version": 3
   },
   "file_extension": ".py",
   "mimetype": "text/x-python",
   "name": "python",
   "nbconvert_exporter": "python",
   "pygments_lexer": "ipython3",
   "version": "3.11.11"
  }
 },
 "nbformat": 4,
 "nbformat_minor": 5
}
